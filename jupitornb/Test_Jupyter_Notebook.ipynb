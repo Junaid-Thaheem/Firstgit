{
 "cells": [
  {
   "cell_type": "markdown",
   "id": "597e1388",
   "metadata": {},
   "source": [
    "# Pyton ka chila with baba ammar\n",
    "## how to use juptor notbook\n",
    "### basic pyton\n",
    "\n",
    "01-first program"
   ]
  },
  {
   "cell_type": "code",
   "execution_count": 3,
   "id": "eee1071d",
   "metadata": {},
   "outputs": [
    {
     "name": "stdout",
     "output_type": "stream",
     "text": [
      "7\n",
      "hello word\n",
      "junaid altaf tahhaeem\n",
      "485\n"
     ]
    }
   ],
   "source": [
    "print(2+5)\n",
    "print(\"hello word\")\n",
    "print(\"junaid altaf tahhaeem\")\n",
    "print(505-20)"
   ]
  },
  {
   "cell_type": "code",
   "execution_count": null,
   "id": "57fd5c69",
   "metadata": {},
   "outputs": [],
   "source": []
  }
 ],
 "metadata": {
  "kernelspec": {
   "display_name": "Python 3 (ipykernel)",
   "language": "python",
   "name": "python3"
  },
  "language_info": {
   "codemirror_mode": {
    "name": "ipython",
    "version": 3
   },
   "file_extension": ".py",
   "mimetype": "text/x-python",
   "name": "python",
   "nbconvert_exporter": "python",
   "pygments_lexer": "ipython3",
   "version": "3.9.13"
  }
 },
 "nbformat": 4,
 "nbformat_minor": 5
}
