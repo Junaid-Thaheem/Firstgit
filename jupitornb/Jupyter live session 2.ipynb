{
 "cells": [
  {
   "cell_type": "code",
   "execution_count": 1,
   "id": "fc5eb60f",
   "metadata": {},
   "outputs": [],
   "source": [
    "# Body mass index (BMI)\n",
    "# Input weight\n",
    "# weight\n",
    "# BMI ( Ask you self your Hight)\n",
    "# Weight\n",
    "# calculate BMI\n",
    "# print Bmi(my name ....,is my bmi....,)\n",
    "# weight in kg/hight in a and its squire"
   ]
  },
  {
   "cell_type": "code",
   "execution_count": 2,
   "id": "88adb2b5",
   "metadata": {},
   "outputs": [
    {
     "name": "stdout",
     "output_type": "stream",
     "text": [
      "what is you hight? 1.74\n"
     ]
    }
   ],
   "source": [
    "hight= input(\"what is you hight? \")"
   ]
  },
  {
   "cell_type": "code",
   "execution_count": 3,
   "id": "70b98b15",
   "metadata": {},
   "outputs": [],
   "source": [
    "hight = float(hight)"
   ]
  },
  {
   "cell_type": "code",
   "execution_count": 4,
   "id": "9e4978aa",
   "metadata": {},
   "outputs": [
    {
     "name": "stdout",
     "output_type": "stream",
     "text": [
      "what is your weight? 68\n"
     ]
    }
   ],
   "source": [
    "weight =input(\"what is your weight? \") "
   ]
  },
  {
   "cell_type": "code",
   "execution_count": 15,
   "id": "a4a738b4",
   "metadata": {},
   "outputs": [
    {
     "data": {
      "text/plain": [
       "68.0"
      ]
     },
     "execution_count": 15,
     "metadata": {},
     "output_type": "execute_result"
    }
   ],
   "source": [
    "weight = float(weight)"
   ]
  },
  {
   "cell_type": "code",
   "execution_count": 6,
   "id": "a5180d11",
   "metadata": {},
   "outputs": [
    {
     "name": "stdout",
     "output_type": "stream",
     "text": [
      "what is your name? junaid\n"
     ]
    }
   ],
   "source": [
    "name=input(\"what is your name? \")"
   ]
  },
  {
   "cell_type": "code",
   "execution_count": 22,
   "id": "56f17c61",
   "metadata": {},
   "outputs": [
    {
     "data": {
      "text/plain": [
       "25.762980578676178"
      ]
     },
     "execution_count": 22,
     "metadata": {},
     "output_type": "execute_result"
    }
   ],
   "source": [
    "bmi=78/1.74**2\n",
    "bmi"
   ]
  },
  {
   "cell_type": "code",
   "execution_count": 23,
   "id": "27b629e7",
   "metadata": {},
   "outputs": [
    {
     "name": "stdout",
     "output_type": "stream",
     "text": [
      "my name is junaid and my bmi 25.762980578676178\n"
     ]
    }
   ],
   "source": [
    "print(\"my name is\",name,\"and my bmi\",bmi)"
   ]
  },
  {
   "cell_type": "code",
   "execution_count": null,
   "id": "674343b0",
   "metadata": {},
   "outputs": [],
   "source": []
  }
 ],
 "metadata": {
  "kernelspec": {
   "display_name": "Python 3 (ipykernel)",
   "language": "python",
   "name": "python3"
  },
  "language_info": {
   "codemirror_mode": {
    "name": "ipython",
    "version": 3
   },
   "file_extension": ".py",
   "mimetype": "text/x-python",
   "name": "python",
   "nbconvert_exporter": "python",
   "pygments_lexer": "ipython3",
   "version": "3.9.13"
  }
 },
 "nbformat": 4,
 "nbformat_minor": 5
}
