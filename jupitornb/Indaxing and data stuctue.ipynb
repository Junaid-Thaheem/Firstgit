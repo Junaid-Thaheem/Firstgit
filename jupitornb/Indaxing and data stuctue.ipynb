{
 "cells": [
  {
   "cell_type": "markdown",
   "id": "156567bb",
   "metadata": {},
   "source": [
    "# Indexing"
   ]
  },
  {
   "cell_type": "code",
   "execution_count": 1,
   "id": "2381510e",
   "metadata": {},
   "outputs": [
    {
     "data": {
      "text/plain": [
       "'samosa pakora'"
      ]
     },
     "execution_count": 1,
     "metadata": {},
     "output_type": "execute_result"
    }
   ],
   "source": [
    "a= \"samosa pakora\"\n",
    "a"
   ]
  },
  {
   "cell_type": "code",
   "execution_count": 2,
   "id": "de83f397",
   "metadata": {},
   "outputs": [
    {
     "data": {
      "text/plain": [
       "'samosa pakora'"
      ]
     },
     "execution_count": 2,
     "metadata": {},
     "output_type": "execute_result"
    }
   ],
   "source": [
    "a"
   ]
  },
  {
   "cell_type": "code",
   "execution_count": 3,
   "id": "a41594fa",
   "metadata": {},
   "outputs": [],
   "source": [
    "#lenth of indeces"
   ]
  },
  {
   "cell_type": "code",
   "execution_count": 4,
   "id": "7e167499",
   "metadata": {},
   "outputs": [
    {
     "data": {
      "text/plain": [
       "13"
      ]
     },
     "execution_count": 4,
     "metadata": {},
     "output_type": "execute_result"
    }
   ],
   "source": [
    "len(a)"
   ]
  },
  {
   "cell_type": "code",
   "execution_count": 5,
   "id": "2f572ec0",
   "metadata": {},
   "outputs": [
    {
     "data": {
      "text/plain": [
       "'s'"
      ]
     },
     "execution_count": 5,
     "metadata": {},
     "output_type": "execute_result"
    }
   ],
   "source": [
    "a[0]"
   ]
  },
  {
   "cell_type": "code",
   "execution_count": 6,
   "id": "4958c08a",
   "metadata": {},
   "outputs": [
    {
     "data": {
      "text/plain": [
       "'a'"
      ]
     },
     "execution_count": 6,
     "metadata": {},
     "output_type": "execute_result"
    }
   ],
   "source": [
    "a[1]"
   ]
  },
  {
   "cell_type": "code",
   "execution_count": 7,
   "id": "8ca23ba7",
   "metadata": {
    "scrolled": false
   },
   "outputs": [
    {
     "data": {
      "text/plain": [
       "'o'"
      ]
     },
     "execution_count": 7,
     "metadata": {},
     "output_type": "execute_result"
    }
   ],
   "source": [
    "a[3]"
   ]
  },
  {
   "cell_type": "code",
   "execution_count": 8,
   "id": "85ff5fa8",
   "metadata": {},
   "outputs": [
    {
     "data": {
      "text/plain": [
       "'a'"
      ]
     },
     "execution_count": 8,
     "metadata": {},
     "output_type": "execute_result"
    }
   ],
   "source": [
    "a[12]"
   ]
  },
  {
   "cell_type": "code",
   "execution_count": 9,
   "id": "4283f233",
   "metadata": {},
   "outputs": [
    {
     "data": {
      "text/plain": [
       "'samos'"
      ]
     },
     "execution_count": 9,
     "metadata": {},
     "output_type": "execute_result"
    }
   ],
   "source": [
    "a[0:5]"
   ]
  },
  {
   "cell_type": "code",
   "execution_count": 10,
   "id": "2a350dcc",
   "metadata": {},
   "outputs": [],
   "source": [
    "# lost index exclusive"
   ]
  },
  {
   "cell_type": "code",
   "execution_count": 11,
   "id": "8490b66c",
   "metadata": {
    "scrolled": true
   },
   "outputs": [
    {
     "data": {
      "text/plain": [
       "'samosa'"
      ]
     },
     "execution_count": 11,
     "metadata": {},
     "output_type": "execute_result"
    }
   ],
   "source": [
    "a[0:6]"
   ]
  },
  {
   "cell_type": "code",
   "execution_count": 12,
   "id": "0bc4b3f5",
   "metadata": {},
   "outputs": [
    {
     "data": {
      "text/plain": [
       "'samosa pakora'"
      ]
     },
     "execution_count": 12,
     "metadata": {},
     "output_type": "execute_result"
    }
   ],
   "source": [
    "a[0:13]"
   ]
  },
  {
   "cell_type": "code",
   "execution_count": 13,
   "id": "90382127",
   "metadata": {},
   "outputs": [
    {
     "data": {
      "text/plain": [
       "'pakor'"
      ]
     },
     "execution_count": 13,
     "metadata": {},
     "output_type": "execute_result"
    }
   ],
   "source": [
    "a[-6:-1]"
   ]
  },
  {
   "cell_type": "code",
   "execution_count": 14,
   "id": "2a76b732",
   "metadata": {},
   "outputs": [
    {
     "data": {
      "text/plain": [
       "'pakora'"
      ]
     },
     "execution_count": 14,
     "metadata": {},
     "output_type": "execute_result"
    }
   ],
   "source": [
    "a[-6:13]"
   ]
  },
  {
   "cell_type": "code",
   "execution_count": 15,
   "id": "7baad03a",
   "metadata": {},
   "outputs": [
    {
     "data": {
      "text/plain": [
       "'biryani'"
      ]
     },
     "execution_count": 15,
     "metadata": {},
     "output_type": "execute_result"
    }
   ],
   "source": [
    "food=\"biryani\"\n",
    "food"
   ]
  },
  {
   "cell_type": "markdown",
   "id": "058232e3",
   "metadata": {},
   "source": [
    "## strings mathod"
   ]
  },
  {
   "cell_type": "code",
   "execution_count": 16,
   "id": "b5d42b62",
   "metadata": {},
   "outputs": [
    {
     "data": {
      "text/plain": [
       "'biryani'"
      ]
     },
     "execution_count": 16,
     "metadata": {},
     "output_type": "execute_result"
    }
   ],
   "source": [
    "food"
   ]
  },
  {
   "cell_type": "code",
   "execution_count": 17,
   "id": "b6889788",
   "metadata": {},
   "outputs": [
    {
     "data": {
      "text/plain": [
       "7"
      ]
     },
     "execution_count": 17,
     "metadata": {},
     "output_type": "execute_result"
    }
   ],
   "source": [
    "len(food)"
   ]
  },
  {
   "cell_type": "code",
   "execution_count": 18,
   "id": "082a1b39",
   "metadata": {
    "scrolled": false
   },
   "outputs": [
    {
     "data": {
      "text/plain": [
       "'Biryani'"
      ]
     },
     "execution_count": 18,
     "metadata": {},
     "output_type": "execute_result"
    }
   ],
   "source": [
    "#capitalize evey element\n",
    "food.capitalize()"
   ]
  },
  {
   "cell_type": "code",
   "execution_count": 19,
   "id": "0b322eaf",
   "metadata": {},
   "outputs": [
    {
     "data": {
      "text/plain": [
       "'BIRYANI'"
      ]
     },
     "execution_count": 19,
     "metadata": {},
     "output_type": "execute_result"
    }
   ],
   "source": [
    "#uppercase latter\n",
    "food.upper()"
   ]
  },
  {
   "cell_type": "code",
   "execution_count": 20,
   "id": "fe8268b6",
   "metadata": {},
   "outputs": [
    {
     "data": {
      "text/plain": [
       "'biryani'"
      ]
     },
     "execution_count": 20,
     "metadata": {},
     "output_type": "execute_result"
    }
   ],
   "source": [
    "#lowercase latte\n",
    "food.lower()"
   ]
  },
  {
   "cell_type": "code",
   "execution_count": 21,
   "id": "e66c1eb7",
   "metadata": {},
   "outputs": [
    {
     "data": {
      "text/plain": [
       "'shiryani'"
      ]
     },
     "execution_count": 21,
     "metadata": {},
     "output_type": "execute_result"
    }
   ],
   "source": [
    "#replace latter\n",
    "food.replace(\"b\",\"sh\")"
   ]
  },
  {
   "cell_type": "code",
   "execution_count": 22,
   "id": "5026b9ec",
   "metadata": {},
   "outputs": [
    {
     "data": {
      "text/plain": [
       "'baba ammar with dr tufai'"
      ]
     },
     "execution_count": 22,
     "metadata": {},
     "output_type": "execute_result"
    }
   ],
   "source": [
    "#counting a specific alfabart is string\n",
    "name=\"baba ammar with dr tufai\"\n",
    "name"
   ]
  },
  {
   "cell_type": "code",
   "execution_count": 23,
   "id": "7983803b",
   "metadata": {},
   "outputs": [
    {
     "data": {
      "text/plain": [
       "5"
      ]
     },
     "execution_count": 23,
     "metadata": {},
     "output_type": "execute_result"
    }
   ],
   "source": [
    "name.count(\"a\")"
   ]
  },
  {
   "cell_type": "markdown",
   "id": "9a3f9e42",
   "metadata": {},
   "source": [
    "### finding and index number in string "
   ]
  },
  {
   "cell_type": "code",
   "execution_count": 24,
   "id": "de96f819",
   "metadata": {},
   "outputs": [
    {
     "data": {
      "text/plain": [
       "'baba ammar with dr tufai'"
      ]
     },
     "execution_count": 24,
     "metadata": {},
     "output_type": "execute_result"
    }
   ],
   "source": [
    "name=\"baba ammar with dr tufai\"\n",
    "name"
   ]
  },
  {
   "cell_type": "code",
   "execution_count": 25,
   "id": "14b9abf2",
   "metadata": {},
   "outputs": [
    {
     "data": {
      "text/plain": [
       "16"
      ]
     },
     "execution_count": 25,
     "metadata": {},
     "output_type": "execute_result"
    }
   ],
   "source": [
    "name.find(\"d\")"
   ]
  },
  {
   "cell_type": "markdown",
   "id": "572daaac",
   "metadata": {},
   "source": [
    "### how to spilt a strind "
   ]
  },
  {
   "cell_type": "code",
   "execution_count": 26,
   "id": "13d6d6fd",
   "metadata": {},
   "outputs": [
    {
     "data": {
      "text/plain": [
       "'i love samosa, pakora, biryani and raita'"
      ]
     },
     "execution_count": 26,
     "metadata": {},
     "output_type": "execute_result"
    }
   ],
   "source": [
    "food=\"i love samosa, pakora, biryani and raita\"\n",
    "food"
   ]
  },
  {
   "cell_type": "code",
   "execution_count": 27,
   "id": "fa180f51",
   "metadata": {
    "scrolled": true
   },
   "outputs": [
    {
     "data": {
      "text/plain": [
       "['i love samosa', ' pakora', ' biryani and raita']"
      ]
     },
     "execution_count": 27,
     "metadata": {},
     "output_type": "execute_result"
    }
   ],
   "source": [
    "food.split(\",\")"
   ]
  },
  {
   "cell_type": "code",
   "execution_count": null,
   "id": "311a62d1",
   "metadata": {},
   "outputs": [],
   "source": []
  },
  {
   "cell_type": "markdown",
   "id": "17e8f816",
   "metadata": {},
   "source": [
    "# Basic data structure in python\n",
    "### 1-Tuple\n",
    "### 2 List\n",
    "### 3 dictionaries\n",
    "### 4 set"
   ]
  },
  {
   "cell_type": "markdown",
   "id": "2330182e",
   "metadata": {},
   "source": [
    "## 1-Tuple\n",
    " - Orde collecction of element\n",
    " - enhance in () round traces parathisis\n",
    " - Diffrent kind of element can be shared \n",
    " - once element are shared you can not change them   \n",
    "    "
   ]
  },
  {
   "cell_type": "code",
   "execution_count": 28,
   "id": "9d9325e8",
   "metadata": {},
   "outputs": [
    {
     "data": {
      "text/plain": [
       "(1, 'python', True, 3.5)"
      ]
     },
     "execution_count": 28,
     "metadata": {},
     "output_type": "execute_result"
    }
   ],
   "source": [
    "tup1=(1, \"python\",True,3.5)\n",
    "tup1"
   ]
  },
  {
   "cell_type": "code",
   "execution_count": 29,
   "id": "70a4d9e5",
   "metadata": {},
   "outputs": [
    {
     "data": {
      "text/plain": [
       "tuple"
      ]
     },
     "execution_count": 29,
     "metadata": {},
     "output_type": "execute_result"
    }
   ],
   "source": [
    "type(tup1)"
   ]
  },
  {
   "cell_type": "markdown",
   "id": "4b7489f9",
   "metadata": {},
   "source": [
    "## Indexing in tuple\n"
   ]
  },
  {
   "cell_type": "code",
   "execution_count": 30,
   "id": "cc968097",
   "metadata": {
    "scrolled": true
   },
   "outputs": [
    {
     "data": {
      "text/plain": [
       "True"
      ]
     },
     "execution_count": 30,
     "metadata": {},
     "output_type": "execute_result"
    }
   ],
   "source": [
    "tup1[2]"
   ]
  },
  {
   "cell_type": "code",
   "execution_count": 31,
   "id": "2a02060b",
   "metadata": {
    "scrolled": true
   },
   "outputs": [
    {
     "data": {
      "text/plain": [
       "(1, 'python', True)"
      ]
     },
     "execution_count": 31,
     "metadata": {},
     "output_type": "execute_result"
    }
   ],
   "source": [
    "tup1[0:3]"
   ]
  },
  {
   "cell_type": "code",
   "execution_count": 32,
   "id": "a9a265ec",
   "metadata": {},
   "outputs": [
    {
     "data": {
      "text/plain": [
       "4"
      ]
     },
     "execution_count": 32,
     "metadata": {},
     "output_type": "execute_result"
    }
   ],
   "source": [
    "#count of elment\n",
    "len(tup1)"
   ]
  },
  {
   "cell_type": "code",
   "execution_count": 33,
   "id": "f7c499d9",
   "metadata": {
    "scrolled": true
   },
   "outputs": [
    {
     "data": {
      "text/plain": [
       "(2, 'babaammar', 3.5, False)"
      ]
     },
     "execution_count": 33,
     "metadata": {},
     "output_type": "execute_result"
    }
   ],
   "source": [
    "tup2 = (2, \"babaammar\",3.5, False)\n",
    "tup2"
   ]
  },
  {
   "cell_type": "code",
   "execution_count": 34,
   "id": "c5813d80",
   "metadata": {},
   "outputs": [
    {
     "data": {
      "text/plain": [
       "(1, 'python', True, 3.5, 2, 'babaammar', 3.5, False)"
      ]
     },
     "execution_count": 34,
     "metadata": {},
     "output_type": "execute_result"
    }
   ],
   "source": [
    "#concatinate (to add two tuple or>2)\n",
    "tup1+tup2"
   ]
  },
  {
   "cell_type": "code",
   "execution_count": 35,
   "id": "8c9fbbe7",
   "metadata": {},
   "outputs": [
    {
     "data": {
      "text/plain": [
       "(1, 'python', True, 3.5, 1, 'python', True, 3.5, 2, 'babaammar', 3.5, False)"
      ]
     },
     "execution_count": 35,
     "metadata": {},
     "output_type": "execute_result"
    }
   ],
   "source": [
    "#concatinate + repeate\n",
    "tup1*2 + tup2"
   ]
  },
  {
   "cell_type": "code",
   "execution_count": 36,
   "id": "1b832ad8",
   "metadata": {},
   "outputs": [
    {
     "data": {
      "text/plain": [
       "(50, 62, 30, 4, 55)"
      ]
     },
     "execution_count": 36,
     "metadata": {},
     "output_type": "execute_result"
    }
   ],
   "source": [
    "tup3 =(50,62,30,4,55)\n",
    "tup3"
   ]
  },
  {
   "cell_type": "code",
   "execution_count": 37,
   "id": "ed650b8b",
   "metadata": {
    "scrolled": true
   },
   "outputs": [
    {
     "data": {
      "text/plain": [
       "4"
      ]
     },
     "execution_count": 37,
     "metadata": {},
     "output_type": "execute_result"
    }
   ],
   "source": [
    "min(tup3)"
   ]
  },
  {
   "cell_type": "code",
   "execution_count": 38,
   "id": "9c367641",
   "metadata": {},
   "outputs": [
    {
     "data": {
      "text/plain": [
       "62"
      ]
     },
     "execution_count": 38,
     "metadata": {},
     "output_type": "execute_result"
    }
   ],
   "source": [
    "max(tup3)"
   ]
  },
  {
   "cell_type": "code",
   "execution_count": 39,
   "id": "2ee512e0",
   "metadata": {},
   "outputs": [
    {
     "data": {
      "text/plain": [
       "(50, 62, 30, 4, 55, 50, 62, 30, 4, 55, 50, 62, 30, 4, 55)"
      ]
     },
     "execution_count": 39,
     "metadata": {},
     "output_type": "execute_result"
    }
   ],
   "source": [
    "tup3*3"
   ]
  },
  {
   "cell_type": "markdown",
   "id": "a7cc451a",
   "metadata": {},
   "source": [
    "### "
   ]
  },
  {
   "cell_type": "markdown",
   "id": "4a15d265",
   "metadata": {},
   "source": [
    "## -List\n",
    " - order collection of element\n",
    " - elemet in [] squire breacket\n",
    " - Mutatable, you can change the value"
   ]
  },
  {
   "cell_type": "code",
   "execution_count": 40,
   "id": "8bbbcbbe",
   "metadata": {},
   "outputs": [
    {
     "data": {
      "text/plain": [
       "[2, 'babaammar', False]"
      ]
     },
     "execution_count": 40,
     "metadata": {},
     "output_type": "execute_result"
    }
   ],
   "source": [
    "list1=[2, \"babaammar\", False]\n",
    "list1"
   ]
  },
  {
   "cell_type": "code",
   "execution_count": 41,
   "id": "dbcd8d7e",
   "metadata": {},
   "outputs": [
    {
     "data": {
      "text/plain": [
       "3"
      ]
     },
     "execution_count": 41,
     "metadata": {},
     "output_type": "execute_result"
    }
   ],
   "source": [
    "len(list1)"
   ]
  },
  {
   "cell_type": "code",
   "execution_count": 42,
   "id": "218287aa",
   "metadata": {},
   "outputs": [
    {
     "data": {
      "text/plain": [
       "False"
      ]
     },
     "execution_count": 42,
     "metadata": {},
     "output_type": "execute_result"
    }
   ],
   "source": [
    "list1[2]"
   ]
  },
  {
   "cell_type": "code",
   "execution_count": 43,
   "id": "f511f21e",
   "metadata": {
    "scrolled": true
   },
   "outputs": [
    {
     "data": {
      "text/plain": [
       "list"
      ]
     },
     "execution_count": 43,
     "metadata": {},
     "output_type": "execute_result"
    }
   ],
   "source": [
    "type(list1)"
   ]
  },
  {
   "cell_type": "code",
   "execution_count": 44,
   "id": "5e9c687d",
   "metadata": {},
   "outputs": [
    {
     "data": {
      "text/plain": [
       "[3, 5, 'ammar', 'codanic', 478, 52.2, False]"
      ]
     },
     "execution_count": 44,
     "metadata": {},
     "output_type": "execute_result"
    }
   ],
   "source": [
    "list2=[3,5,\"ammar\",\"codanic\",478,52.2,False]\n",
    "list2"
   ]
  },
  {
   "cell_type": "code",
   "execution_count": 45,
   "id": "b7d5736f",
   "metadata": {},
   "outputs": [
    {
     "data": {
      "text/plain": [
       "[2, 'babaammar', False, 3, 5, 'ammar', 'codanic', 478, 52.2, False]"
      ]
     },
     "execution_count": 45,
     "metadata": {},
     "output_type": "execute_result"
    }
   ],
   "source": [
    "list1 + list2"
   ]
  },
  {
   "cell_type": "code",
   "execution_count": 46,
   "id": "29323a27",
   "metadata": {},
   "outputs": [
    {
     "data": {
      "text/plain": [
       "[2, 'babaammar', False, 2, 'babaammar', False]"
      ]
     },
     "execution_count": 46,
     "metadata": {},
     "output_type": "execute_result"
    }
   ],
   "source": [
    "list1*2"
   ]
  },
  {
   "cell_type": "code",
   "execution_count": 47,
   "id": "6ffae633",
   "metadata": {},
   "outputs": [
    {
     "data": {
      "text/plain": [
       "[False, 'babaammar', 2]"
      ]
     },
     "execution_count": 47,
     "metadata": {},
     "output_type": "execute_result"
    }
   ],
   "source": [
    "list1.reverse()\n",
    "list1"
   ]
  },
  {
   "cell_type": "code",
   "execution_count": 48,
   "id": "7bed9b98",
   "metadata": {},
   "outputs": [
    {
     "data": {
      "text/plain": [
       "[False, 'babaammar', 2, 'codanic with baba ammar']"
      ]
     },
     "execution_count": 48,
     "metadata": {},
     "output_type": "execute_result"
    }
   ],
   "source": [
    "list1.append(\"codanic with baba ammar\")\n",
    "list1"
   ]
  },
  {
   "cell_type": "code",
   "execution_count": 49,
   "id": "55fc6599",
   "metadata": {},
   "outputs": [
    {
     "data": {
      "text/plain": [
       "[25, 12, 10, 5, 54, 23, 654, 3, 55]"
      ]
     },
     "execution_count": 49,
     "metadata": {},
     "output_type": "execute_result"
    }
   ],
   "source": [
    "list3=[25,12,10,5,54,23,654,3,55]\n",
    "list3"
   ]
  },
  {
   "cell_type": "code",
   "execution_count": 50,
   "id": "2702b8b3",
   "metadata": {},
   "outputs": [
    {
     "data": {
      "text/plain": [
       "9"
      ]
     },
     "execution_count": 50,
     "metadata": {},
     "output_type": "execute_result"
    }
   ],
   "source": [
    "len(list3)"
   ]
  },
  {
   "cell_type": "code",
   "execution_count": 51,
   "id": "9cb21f9a",
   "metadata": {},
   "outputs": [
    {
     "data": {
      "text/plain": [
       "[3, 5, 10, 12, 23, 25, 54, 55, 654]"
      ]
     },
     "execution_count": 51,
     "metadata": {},
     "output_type": "execute_result"
    }
   ],
   "source": [
    "list3.sort()\n",
    "list3"
   ]
  },
  {
   "cell_type": "code",
   "execution_count": 52,
   "id": "3acb1734",
   "metadata": {},
   "outputs": [
    {
     "data": {
      "text/plain": [
       "[3, 5, 10, 12, 23, 25, 54, 55, 654, 3, 5, 10, 12, 23, 25, 54, 55, 654]"
      ]
     },
     "execution_count": 52,
     "metadata": {},
     "output_type": "execute_result"
    }
   ],
   "source": [
    "list3*2"
   ]
  },
  {
   "cell_type": "code",
   "execution_count": 53,
   "id": "37136b52",
   "metadata": {},
   "outputs": [
    {
     "data": {
      "text/plain": [
       "[False,\n",
       " 'babaammar',\n",
       " 2,\n",
       " 'codanic with baba ammar',\n",
       " 3,\n",
       " 5,\n",
       " 'ammar',\n",
       " 'codanic',\n",
       " 478,\n",
       " 52.2,\n",
       " False]"
      ]
     },
     "execution_count": 53,
     "metadata": {},
     "output_type": "execute_result"
    }
   ],
   "source": [
    "lists=list1+list2\n",
    "lists"
   ]
  },
  {
   "cell_type": "markdown",
   "id": "cead4704",
   "metadata": {},
   "source": [
    "### "
   ]
  },
  {
   "cell_type": "markdown",
   "id": "212a9e37",
   "metadata": {},
   "source": [
    "## 3-Dichionaries\n",
    "- an unorder collection of elements\n",
    "- key and value\n",
    "- curly braces or breackets\n",
    "- mutateable change the value"
   ]
  },
  {
   "cell_type": "code",
   "execution_count": 54,
   "id": "b8b261dd",
   "metadata": {},
   "outputs": [
    {
     "data": {
      "text/plain": [
       "{'samosa': 30, 'pakora': 100, 'raita': 20, 'salad': 50, 'chicken pakora': 30}"
      ]
     },
     "execution_count": 54,
     "metadata": {},
     "output_type": "execute_result"
    }
   ],
   "source": [
    "food1={\"samosa\":30, \"pakora\":100, \"raita\":20, \"salad\":50, \"chicken pakora\":30}\n",
    "food1"
   ]
  },
  {
   "cell_type": "code",
   "execution_count": 55,
   "id": "7cea29b6",
   "metadata": {},
   "outputs": [
    {
     "data": {
      "text/plain": [
       "dict"
      ]
     },
     "execution_count": 55,
     "metadata": {},
     "output_type": "execute_result"
    }
   ],
   "source": [
    "type(food1)"
   ]
  },
  {
   "cell_type": "code",
   "execution_count": 56,
   "id": "5d97e776",
   "metadata": {},
   "outputs": [
    {
     "data": {
      "text/plain": [
       "dict_keys(['samosa', 'pakora', 'raita', 'salad', 'chicken pakora'])"
      ]
     },
     "execution_count": 56,
     "metadata": {},
     "output_type": "execute_result"
    }
   ],
   "source": [
    "key1 = food1.keys()\n",
    "key1"
   ]
  },
  {
   "cell_type": "code",
   "execution_count": 57,
   "id": "4f1f89a5",
   "metadata": {},
   "outputs": [
    {
     "data": {
      "text/plain": [
       "dict_values([30, 100, 20, 50, 30])"
      ]
     },
     "execution_count": 57,
     "metadata": {},
     "output_type": "execute_result"
    }
   ],
   "source": [
    "value1 = food1.values()\n",
    "value1"
   ]
  },
  {
   "cell_type": "code",
   "execution_count": 58,
   "id": "65c737aa",
   "metadata": {},
   "outputs": [
    {
     "data": {
      "text/plain": [
       "{'samosa': 30,\n",
       " 'pakora': 100,\n",
       " 'raita': 20,\n",
       " 'salad': 50,\n",
       " 'chicken pakora': 30,\n",
       " 'tikke': 10}"
      ]
     },
     "execution_count": 58,
     "metadata": {},
     "output_type": "execute_result"
    }
   ],
   "source": [
    "#add new elwments\n",
    "food1[\"tikke\"]=10\n",
    "food1"
   ]
  },
  {
   "cell_type": "code",
   "execution_count": 59,
   "id": "d40ba416",
   "metadata": {},
   "outputs": [
    {
     "data": {
      "text/plain": [
       "{'samosa': 30,\n",
       " 'pakora': 100,\n",
       " 'raita': 20,\n",
       " 'salad': 50,\n",
       " 'chicken pakora': 30,\n",
       " 'tikke': 15}"
      ]
     },
     "execution_count": 59,
     "metadata": {},
     "output_type": "execute_result"
    }
   ],
   "source": [
    "#update the new values\n",
    "food1[\"tikke\"]=15\n",
    "food1"
   ]
  },
  {
   "cell_type": "code",
   "execution_count": 62,
   "id": "ac5c3c18",
   "metadata": {},
   "outputs": [
    {
     "data": {
      "text/plain": [
       "{'Dates': 50, 'chocklate': 200, 'sawyan': 1000}"
      ]
     },
     "execution_count": 62,
     "metadata": {},
     "output_type": "execute_result"
    }
   ],
   "source": [
    "food2={\"Dates\":50,\"chocklate\":200,\"sawyan\":1000}\n",
    "food2"
   ]
  },
  {
   "cell_type": "code",
   "execution_count": 63,
   "id": "3aef37a1",
   "metadata": {
    "scrolled": true
   },
   "outputs": [
    {
     "data": {
      "text/plain": [
       "{'samosa': 30,\n",
       " 'pakora': 100,\n",
       " 'raita': 20,\n",
       " 'salad': 50,\n",
       " 'chicken pakora': 30,\n",
       " 'tikke': 15,\n",
       " 'Dates': 50,\n",
       " 'chocklate': 200,\n",
       " 'sawyan': 1000}"
      ]
     },
     "execution_count": 63,
     "metadata": {},
     "output_type": "execute_result"
    }
   ],
   "source": [
    "#concatinate\n",
    "food1.update(food2)\n",
    "food1"
   ]
  },
  {
   "cell_type": "markdown",
   "id": "82290779",
   "metadata": {},
   "source": [
    "### "
   ]
  },
  {
   "cell_type": "markdown",
   "id": "ce7097d3",
   "metadata": {},
   "source": [
    "## 4- Set \n",
    "- unordered and unindexed\n",
    "- curly baraces are used {}\n",
    "- No dubilicate allowed"
   ]
  },
  {
   "cell_type": "code",
   "execution_count": 1,
   "id": "45ea8b64",
   "metadata": {},
   "outputs": [
    {
     "data": {
      "text/plain": [
       "{2.2, 5.2, 'Ammar', True, 'codanic', 'faislabad'}"
      ]
     },
     "execution_count": 1,
     "metadata": {},
     "output_type": "execute_result"
    }
   ],
   "source": [
    "s1={2.2,5.2,\"Ammar\",\"faislabad\",\"codanic\",True}\n",
    "s1"
   ]
  },
  {
   "cell_type": "code",
   "execution_count": 4,
   "id": "b7e71cc3",
   "metadata": {},
   "outputs": [
    {
     "data": {
      "text/plain": [
       "{2.2, 5.2, 'Ammar', True, 'ammar1', 'codanic', 'faislabad'}"
      ]
     },
     "execution_count": 4,
     "metadata": {},
     "output_type": "execute_result"
    }
   ],
   "source": [
    "s1.add(\"ammar1\")\n",
    "s1"
   ]
  },
  {
   "cell_type": "code",
   "execution_count": 5,
   "id": "3eab0ff1",
   "metadata": {},
   "outputs": [
    {
     "data": {
      "text/plain": [
       "{2.2, 5.2, 'Ammar', True, 'codanic', 'faislabad'}"
      ]
     },
     "execution_count": 5,
     "metadata": {},
     "output_type": "execute_result"
    }
   ],
   "source": [
    "s1.remove(\"ammar1\")\n",
    "s1"
   ]
  },
  {
   "cell_type": "code",
   "execution_count": null,
   "id": "469b5c91",
   "metadata": {},
   "outputs": [],
   "source": []
  },
  {
   "cell_type": "code",
   "execution_count": null,
   "id": "9eb0e523",
   "metadata": {},
   "outputs": [],
   "source": []
  }
 ],
 "metadata": {
  "kernelspec": {
   "display_name": "Python 3 (ipykernel)",
   "language": "python",
   "name": "python3"
  },
  "language_info": {
   "codemirror_mode": {
    "name": "ipython",
    "version": 3
   },
   "file_extension": ".py",
   "mimetype": "text/x-python",
   "name": "python",
   "nbconvert_exporter": "python",
   "pygments_lexer": "ipython3",
   "version": "3.9.13"
  }
 },
 "nbformat": 4,
 "nbformat_minor": 5
}
